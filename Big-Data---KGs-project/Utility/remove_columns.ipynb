{
 "cells": [
  {
   "cell_type": "code",
   "execution_count": null,
   "id": "02872b0e-c818-46d2-bba2-445dfa4887d5",
   "metadata": {},
   "outputs": [],
   "source": [
    "import csv\n",
    "import os\n",
    "\n",
    "# File di input e output\n",
    "input_file = \"user_augmentation.csv\"\n",
    "output_file = \"user_augmentation_fixed.csv\"\n",
    "delimiter = ','  # Adatta il delimitatore in base al tuo file\n",
    "\n",
    "# Verifica se il file di input esiste\n",
    "if os.path.exists(input_file):\n",
    "    # Apri il file di input in modalità lettura e il file di output in modalità scrittura\n",
    "    with open(input_file, 'r', encoding='utf-8') as infile, open(output_file, 'w', encoding='utf-8', newline='') as outfile:\n",
    "        reader = csv.reader(infile, delimiter=delimiter)\n",
    "        writer = csv.writer(outfile, delimiter=delimiter)\n",
    "\n",
    "        # Copia l'header nel nuovo file\n",
    "        header = next(reader)\n",
    "        writer.writerow(header[:9])  # Riduci l'header a 9 colonne\n",
    "\n",
    "        # Copia il contenuto del file, riducendo ogni riga a 9 colonne\n",
    "        for line_number, line in enumerate(reader, start=2):\n",
    "            reduced_line = line[:9]  # Riduci la riga a 9 colonne\n",
    "            writer.writerow(reduced_line)\n",
    "\n",
    "    print(f\"File {output_file} creato con successo.\")\n",
    "    os.remove(input_file)\n",
    "else:\n",
    "    print(f\"Il file {input_file} non esiste.\")"
   ]
  }
 ],
 "metadata": {
  "kernelspec": {
   "display_name": "Python 3 (ipykernel)",
   "language": "python",
   "name": "python3"
  },
  "language_info": {
   "codemirror_mode": {
    "name": "ipython",
    "version": 3
   },
   "file_extension": ".py",
   "mimetype": "text/x-python",
   "name": "python",
   "nbconvert_exporter": "python",
   "pygments_lexer": "ipython3",
   "version": "3.10.4"
  }
 },
 "nbformat": 4,
 "nbformat_minor": 5
}
