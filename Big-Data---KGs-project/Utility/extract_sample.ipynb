{
 "cells": [
  {
   "cell_type": "code",
   "execution_count": null,
   "id": "dcb2b789-fb39-4c36-9ffb-51e6554cc1b5",
   "metadata": {},
   "outputs": [],
   "source": [
    "!pip install pandas"
   ]
  },
  {
   "cell_type": "code",
   "execution_count": 3,
   "id": "e462a333-ab41-464b-bb94-9d3e26a2c7fc",
   "metadata": {},
   "outputs": [],
   "source": [
    "import pandas as pd\n",
    "\n",
    "def leggi_e_salva_file(input_file, output_file, nrows):\n",
    "    # Leggi il file di input con specifica del delimitatore usando regex\n",
    "    df = pd.read_csv(input_file, nrows=nrows, sep='\\t', engine='python', quoting=3)\n",
    "\n",
    "    # Salva i primi \"nrows\" campi nel nuovo file\n",
    "    df.to_csv(output_file, index=False)\n",
    "\n"
   ]
  },
  {
   "cell_type": "code",
   "execution_count": 4,
   "id": "2e07e156-2575-415c-9663-9156682be6ba",
   "metadata": {},
   "outputs": [],
   "source": [
    "def process_data(interactions_file, users_file, tracks_file, artists_file, output_file):\n",
    "    # Read interaction data into a pandas DataFrame\n",
    "    interactions_data = pd.read_csv(interactions_file, delimiter=',')\n",
    "\n",
    "    # Rename columns to remove escape characters\n",
    "    interactions_data = interactions_data.rename(columns={\n",
    "        'user_id:token': 'users_id',\n",
    "        'tracks_id:token': 'tracks_id',\n",
    "        'timestamp:float': 'timestamp'\n",
    "    })\n",
    "\n",
    "    # Calculate the number of interactions for each user-track pair\n",
    "    user_interaction_counts = interactions_data.groupby(['users_id', 'tracks_id']).size().reset_index().rename(columns={0: 'interaction_count'})\n",
    "\n",
    "    # Read track data into a pandas DataFrame\n",
    "    tracks_data = pd.read_csv(tracks_file, sep='\\t', names=['tracks_id', 'track_name', 'artist_id'])\n",
    "\n",
    "    # Merge with track data\n",
    "    merged_data = pd.merge(user_interaction_counts, tracks_data, on='tracks_id', how='left')\n",
    "\n",
    "    # Calculate the total number of plays for each track\n",
    "    track_playcount = interactions_data.groupby('tracks_id')['tracks_id'].count().reset_index(name='total_playcount')\n",
    "\n",
    "    # Merge the filtered data with the total play count data per track\n",
    "    final_merged_data = pd.merge(merged_data, track_playcount, on='tracks_id', how='left')\n",
    "\n",
    "    # Read artist data into a pandas DataFrame\n",
    "    artists_data = pd.read_csv(artists_file, sep='\\t', names=['artist_id', 'artist_name'])\n",
    "\n",
    "    # Convert 'artist_id' column in artists_data to the same data type as in final_merged_data\n",
    "    artists_data['artist_id'] = artists_data['artist_id'].astype(final_merged_data['artist_id'].dtype)\n",
    "\n",
    "    # Merge with artist data\n",
    "    final_merged_data = pd.merge(final_merged_data, artists_data, on='artist_id', how='left')\n",
    "\n",
    "    # Select the desired columns\n",
    "    final_columns = ['users_id', 'tracks_id', 'interaction_count', 'total_playcount', 'track_name', 'artist_name']\n",
    "\n",
    "    # Save the output to a CSV file\n",
    "    final_merged_data[final_columns].to_csv(output_file, index=False)\n"
   ]
  },
  {
   "cell_type": "code",
   "execution_count": 5,
   "id": "46bb41e7-c015-42e9-92fc-c21d6c9cef96",
   "metadata": {},
   "outputs": [
    {
     "name": "stdin",
     "output_type": "stream",
     "text": [
      "Inserisci il numero di MILIONI di righe da leggere:  1\n"
     ]
    }
   ],
   "source": [
    "if __name__ == \"__main__\":\n",
    "    # Percorso del file delle interazioni utente-traccia\n",
    "    percorso_file_input = '../LFM-1b/lfm1b-tracks.inter'\n",
    "\n",
    "    # Chiedi all'utente di inserire il numero di righe da leggere\n",
    "    inp = input(\"Inserisci il numero di MILIONI di righe da leggere: \")\n",
    "    nrows = float(inp) * 1000000\n",
    "\n",
    "    # Imposta il percorso per il nuovo file\n",
    "    percorso_file_output = \"tracks.csv\"\n",
    "\n",
    "    # Esegui la funzione con il numero specificato di righe\n",
    "    leggi_e_salva_file(percorso_file_input, percorso_file_output, nrows)\n",
    "    \n",
    "    interactions_file = percorso_file_output\n",
    "    users_file = \"../LFM-1b/LFM-1b_users.txt\"\n",
    "    tracks_file = \"../LFM-1b/LFM-1b_tracks.txt\"\n",
    "    artists_file = \"../LFM-1b/LFM-1b_artists.txt\"\n",
    "    output_file = \"sample.csv\"\n",
    "\n",
    "    # Esegui il processo di elaborazione dei dati\n",
    "    process_data(interactions_file, users_file, tracks_file, artists_file, output_file)\n"
   ]
  },
  {
   "cell_type": "code",
   "execution_count": null,
   "id": "3579c91d-4736-4de5-954b-626f438184ac",
   "metadata": {},
   "outputs": [],
   "source": []
  }
 ],
 "metadata": {
  "kernelspec": {
   "display_name": "Python 3 (ipykernel)",
   "language": "python",
   "name": "python3"
  },
  "language_info": {
   "codemirror_mode": {
    "name": "ipython",
    "version": 3
   },
   "file_extension": ".py",
   "mimetype": "text/x-python",
   "name": "python",
   "nbconvert_exporter": "python",
   "pygments_lexer": "ipython3",
   "version": "3.10.4"
  }
 },
 "nbformat": 4,
 "nbformat_minor": 5
}
