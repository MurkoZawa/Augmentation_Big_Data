{
 "cells": [
  {
   "cell_type": "code",
   "execution_count": 5,
   "id": "f044c7d2-bb34-478a-b634-f48ba0039728",
   "metadata": {},
   "outputs": [
    {
     "name": "stdout",
     "output_type": "stream",
     "text": [
      "Requirement already satisfied: pandas in c:\\users\\utente\\appdata\\local\\programs\\python\\python310\\lib\\site-packages (2.0.2)"
     ]
    },
    {
     "name": "stderr",
     "output_type": "stream",
     "text": [
      "WARNING: You are using pip version 22.0.4; however, version 23.3.1 is available.\n",
      "You should consider upgrading via the 'C:\\Users\\utente\\AppData\\Local\\Programs\\Python\\Python310\\python.exe -m pip install --upgrade pip' command.\n"
     ]
    },
    {
     "name": "stdout",
     "output_type": "stream",
     "text": [
      "\n",
      "Requirement already satisfied: pytz>=2020.1 in c:\\users\\utente\\appdata\\local\\programs\\python\\python310\\lib\\site-packages (from pandas) (2023.3)\n",
      "Requirement already satisfied: python-dateutil>=2.8.2 in c:\\users\\utente\\appdata\\local\\programs\\python\\python310\\lib\\site-packages (from pandas) (2.8.2)\n",
      "Requirement already satisfied: tzdata>=2022.1 in c:\\users\\utente\\appdata\\local\\programs\\python\\python310\\lib\\site-packages (from pandas) (2023.3)\n",
      "Requirement already satisfied: numpy>=1.21.0 in c:\\users\\utente\\appdata\\local\\programs\\python\\python310\\lib\\site-packages (from pandas) (1.24.3)\n",
      "Requirement already satisfied: six>=1.5 in c:\\users\\utente\\appdata\\local\\programs\\python\\python310\\lib\\site-packages (from python-dateutil>=2.8.2->pandas) (1.16.0)\n"
     ]
    }
   ],
   "source": [
    "!pip install pandas"
   ]
  },
  {
   "cell_type": "code",
   "execution_count": 2,
   "id": "478c2a75-e80a-42c1-8717-a1c21ab5ea12",
   "metadata": {},
   "outputs": [],
   "source": [
    "import pandas as pd\n",
    "import os\n",
    "\n",
    "def leggi_e_salva_file(input_file, output_file, nrows):\n",
    "    # Leggi il file di input con specifica del delimitatore usando regex\n",
    "    df = pd.read_csv(input_file, nrows=nrows, sep='\\t', engine='python', quoting=3)\n",
    "\n",
    "    # Salva i primi \"nrows\" campi nel nuovo file\n",
    "    df.to_csv(output_file, index=False)\n",
    "\n"
   ]
  },
  {
   "cell_type": "code",
   "execution_count": 3,
   "id": "c289e433-8085-47cd-9d45-8f80d34ac5c9",
   "metadata": {},
   "outputs": [],
   "source": [
    "def process_data(interactions_file, tracks_file, artists_file, output_file):\n",
    "    # Leggi i dati di interazione in un DataFrame pandas\n",
    "    interactions_data = pd.read_csv(interactions_file, delimiter=',')\n",
    "\n",
    "    # Rinomina le colonne per rimuovere i caratteri di escape\n",
    "    interactions_data = interactions_data.rename(columns={\n",
    "        'user_id:token': 'users_id',\n",
    "        'tracks_id:token': 'tracks_id',\n",
    "        'timestamp:float': 'timestamp'\n",
    "    })\n",
    "\n",
    "    # Calcola il numero di interazioni per ogni coppia utente-traccia\n",
    "    user_interaction_counts = interactions_data.groupby(['users_id', 'tracks_id']).size().reset_index().rename(columns={0: 'interaction_count'})\n",
    "\n",
    "    # Filtra le tracce ascoltate almeno 20 volte da un utente\n",
    "    user_filtered_data = user_interaction_counts[user_interaction_counts['interaction_count'] >= 20]\n",
    "\n",
    "    # Leggi i dati delle tracce in un DataFrame pandas\n",
    "    tracks_data = pd.read_csv(tracks_file, sep='\\t', names=['tracks_id', 'track_name', 'artist_id'])\n",
    "\n",
    "    # Esegui il merge con i dati delle tracce\n",
    "    merged_data = pd.merge(user_filtered_data, tracks_data, on='tracks_id', how='left')\n",
    "\n",
    "    # Calcola il numero totale di ascolti per ogni traccia\n",
    "    track_playcount = interactions_data.groupby('tracks_id')['tracks_id'].count().reset_index(name='total_playcount')\n",
    "\n",
    "    # Unisci i dati filtrati con i dati totali di playcount per traccia\n",
    "    final_merged_data = pd.merge(merged_data, track_playcount, on='tracks_id', how='left')\n",
    "\n",
    "    # Leggi i dati degli artisti in un DataFrame pandas\n",
    "    artists_data = pd.read_csv(artists_file, sep='\\t', names=['artist_id', 'artist_name'])\n",
    "    \n",
    "    # Convert 'artist_id' column in artists_data to the same data type as in final_merged_data\n",
    "    artists_data['artist_id'] = artists_data['artist_id'].astype(final_merged_data['artist_id'].dtype)\n",
    "\n",
    "    # Esegui il merge con i dati degli artisti\n",
    "    final_merged_data = pd.merge(final_merged_data, artists_data, on='artist_id', how='left')\n",
    "\n",
    "    # Filtra le tracce ascoltate almeno 10 volte in totale\n",
    "    final_filtered_data = final_merged_data[final_merged_data['total_playcount'] >= 10]\n",
    "\n",
    "    # Seleziona le colonne desiderate\n",
    "    final_columns = ['users_id', 'tracks_id', 'interaction_count', 'total_playcount', 'track_name', 'artist_name']\n",
    "\n",
    "    # Salva l'output in un file CSV\n",
    "    final_filtered_data[final_columns].to_csv(output_file, index=False)\n",
    "\n"
   ]
  },
  {
   "cell_type": "code",
   "execution_count": 7,
   "id": "1f51b22f-e154-4670-adbe-5a53ede61e4d",
   "metadata": {},
   "outputs": [
    {
     "name": "stdin",
     "output_type": "stream",
     "text": [
      "Inserisci il numero di MILIONI di righe da leggere:  20\n"
     ]
    }
   ],
   "source": [
    "if __name__ == \"__main__\":\n",
    "    # Percorso del file delle interazioni utente-traccia\n",
    "    percorso_file_input = '../LFM-1b/lfm1b-tracks.inter'\n",
    "\n",
    "    # Chiedi all'utente di inserire il numero di righe da leggere\n",
    "    inp = input(\"Inserisci il numero di MILIONI di righe da leggere: \")\n",
    "    nrows = float(inp) * 1000000\n",
    "\n",
    "    # Imposta il percorso per il nuovo file\n",
    "    percorso_file_output = \"tracks.csv\"\n",
    "\n",
    "    # Esegui la funzione con il numero specificato di righe\n",
    "    leggi_e_salva_file(percorso_file_input, percorso_file_output, nrows)\n",
    "    \n",
    "    interactions_file = percorso_file_output\n",
    "    tracks_file = \"../LFM-1b/LFM-1b_tracks.txt\"\n",
    "    artists_file = \"../LFM-1b/LFM-1b_artists.txt\"\n",
    "    output_file = \"sample.csv\"\n",
    "\n",
    "    # Esegui il processo di elaborazione dei dati\n",
    "    process_data(interactions_file, tracks_file, artists_file, output_file)\n",
    "    os.remove(percorso_file_output)"
   ]
  },
  {
   "cell_type": "code",
   "execution_count": null,
   "id": "cdf7cb11-c698-420c-8b03-278a7874c79a",
   "metadata": {},
   "outputs": [],
   "source": []
  }
 ],
 "metadata": {
  "kernelspec": {
   "display_name": "Python 3 (ipykernel)",
   "language": "python",
   "name": "python3"
  },
  "language_info": {
   "codemirror_mode": {
    "name": "ipython",
    "version": 3
   },
   "file_extension": ".py",
   "mimetype": "text/x-python",
   "name": "python",
   "nbconvert_exporter": "python",
   "pygments_lexer": "ipython3",
   "version": "3.10.4"
  }
 },
 "nbformat": 4,
 "nbformat_minor": 5
}
