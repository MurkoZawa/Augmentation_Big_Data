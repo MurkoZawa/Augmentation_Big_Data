{
 "cells": [
  {
   "cell_type": "code",
   "execution_count": 2,
   "id": "2631a47b-bd4f-4109-954a-677d6ac89918",
   "metadata": {},
   "outputs": [
    {
     "name": "stdout",
     "output_type": "stream",
     "text": [
      "Requirement already satisfied: pandas in c:\\users\\utente\\appdata\\local\\programs\\python\\python310\\lib\\site-packages (2.0.2)\n",
      "Requirement already satisfied: tzdata>=2022.1 in c:\\users\\utente\\appdata\\local\\programs\\python\\python310\\lib\\site-packages (from pandas) (2023.3)\n",
      "Requirement already satisfied: python-dateutil>=2.8.2 in c:\\users\\utente\\appdata\\local\\programs\\python\\python310\\lib\\site-packages (from pandas) (2.8.2)\n",
      "Requirement already satisfied: pytz>=2020.1 in c:\\users\\utente\\appdata\\local\\programs\\python\\python310\\lib\\site-packages (from pandas) (2023.3)\n",
      "Requirement already satisfied: numpy>=1.21.0 in c:\\users\\utente\\appdata\\local\\programs\\python\\python310\\lib\\site-packages (from pandas) (1.24.3)\n",
      "Requirement already satisfied: six>=1.5 in c:\\users\\utente\\appdata\\local\\programs\\python\\python310\\lib\\site-packages (from python-dateutil>=2.8.2->pandas) (1.16.0)\n"
     ]
    },
    {
     "name": "stderr",
     "output_type": "stream",
     "text": [
      "WARNING: You are using pip version 22.0.4; however, version 23.3.1 is available.\n",
      "You should consider upgrading via the 'C:\\Users\\utente\\AppData\\Local\\Programs\\Python\\Python310\\python.exe -m pip install --upgrade pip' command.\n"
     ]
    },
    {
     "name": "stdout",
     "output_type": "stream",
     "text": [
      "Requirement already satisfied: requests in c:\\users\\utente\\appdata\\local\\programs\\python\\python310\\lib\\site-packages (2.31.0)\n",
      "Requirement already satisfied: urllib3<3,>=1.21.1 in c:\\users\\utente\\appdata\\local\\programs\\python\\python310\\lib\\site-packages (from requests) (1.26.16)\n",
      "Requirement already satisfied: certifi>=2017.4.17 in c:\\users\\utente\\appdata\\local\\programs\\python\\python310\\lib\\site-packages (from requests) (2023.5.7)\n",
      "Requirement already satisfied: charset-normalizer<4,>=2 in c:\\users\\utente\\appdata\\local\\programs\\python\\python310\\lib\\site-packages (from requests) (3.1.0)\n",
      "Requirement already satisfied: idna<4,>=2.5 in c:\\users\\utente\\appdata\\local\\programs\\python\\python310\\lib\\site-packages (from requests) (3.4)\n"
     ]
    },
    {
     "name": "stderr",
     "output_type": "stream",
     "text": [
      "WARNING: You are using pip version 22.0.4; however, version 23.3.1 is available.\n",
      "You should consider upgrading via the 'C:\\Users\\utente\\AppData\\Local\\Programs\\Python\\Python310\\python.exe -m pip install --upgrade pip' command.\n"
     ]
    }
   ],
   "source": [
    "!pip install requests"
   ]
  },
  {
   "cell_type": "code",
   "execution_count": 5,
   "id": "c5a31d6c-f238-4bf8-bf02-b26bc56f9736",
   "metadata": {},
   "outputs": [],
   "source": [
    "import pandas as pd\n",
    "import requests\n",
    "import re\n",
    "import time\n",
    "from json.decoder import JSONDecodeError\n",
    "\n",
    "# Definizione di genre_mapping\n",
    "genre_mapping = {\n",
    "    'Q6581097': 'Male',\n",
    "    'Q6581072': 'Female',\n",
    "    'Q1097630': 'Non specificato'\n",
    "}\n",
    "# Funzione che si dedicherà ad effettuare la query SPARQL su Wikidata per cercare le informazioni di genere, data di nascita e luogo di nascita per ogni artista\n",
    "def get_demographic_data(artist_name):\n",
    "    # Controlla se artist_name è una stringa\n",
    "    if not isinstance(artist_name, str):\n",
    "        return {\n",
    "            'genre': None,\n",
    "            'birth_date': None,\n",
    "            'birth_place': None\n",
    "        }\n",
    "\n",
    "    cleaned_artist_name = re.sub(r'[^\\w\\s&,]+', '', artist_name)\n",
    "\n",
    "    # Gestisci il caso di nomi separati da \"and\" o \"&\"\n",
    "    if '&' in cleaned_artist_name:\n",
    "        cleaned_artist_name = cleaned_artist_name.split('&')[0].strip()\n",
    "    elif 'and' in cleaned_artist_name:\n",
    "        cleaned_artist_name = cleaned_artist_name.split('and')[0].strip()\n",
    "\n",
    "    sparql_query = f\"\"\"\n",
    "    SELECT ?artist ?genre ?birthDate ?birthPlaceLabel\n",
    "    WHERE {{\n",
    "      ?artist rdfs:label \"{cleaned_artist_name}\"@en.\n",
    "      ?artist wdt:P21 ?genre;\n",
    "              wdt:P569 ?birthDate;\n",
    "              wdt:P19 ?birthPlace.\n",
    "\n",
    "      SERVICE wikibase:label {{ bd:serviceParam wikibase:language \"[AUTO_LANGUAGE],en\". }}\n",
    "    }}\n",
    "    LIMIT 1\n",
    "    \"\"\"\n",
    "    endpoint_url = \"https://query.wikidata.org/sparql\"\n",
    "    headers = {\n",
    "        'User-Agent': 'Mozilla/5.0 (Windows NT 10.0; Win64; x64) AppleWebKit/537.36 (KHTML, like Gecko) Chrome/91.0.4472.124 Safari/537.36',\n",
    "        'Accept': 'application/json',\n",
    "    }\n",
    "    # Per evitare dei crash o dei problemi di connessione, si gestiscono le opportune eccezioni e si immette un timeout di 120 secondi.\n",
    "    max_retries = 3\n",
    "    for attempt in range(max_retries):\n",
    "        try:\n",
    "            response = requests.get(endpoint_url, headers=headers, params={'query': sparql_query, 'format': 'json'}, timeout=120)\n",
    "            response.raise_for_status()\n",
    "            data = response.json()\n",
    "            break\n",
    "        except requests.exceptions.Timeout:\n",
    "            time.sleep(5)\n",
    "            if attempt == max_retries - 1:\n",
    "                raise\n",
    "        except JSONDecodeError:\n",
    "            data = None\n",
    "\n",
    "    # Verifica se ci sono risultati nella lista\n",
    "    if data and 'results' in data and 'bindings' in data['results'] and data['results']['bindings']:\n",
    "        genre_url = data['results']['bindings'][0]['genre']['value'] if 'genre' in data['results']['bindings'][0] else None\n",
    "        birth_date = data['results']['bindings'][0]['birthDate']['value'] if 'birthDate' in data['results']['bindings'][0] else None\n",
    "        birth_place = data['results']['bindings'][0]['birthPlaceLabel']['value'] if 'birthPlaceLabel' in data['results']['bindings'][0] else None\n",
    "        genre_id = genre_url.split('/')[-1] if genre_url else None\n",
    "        genre = genre_mapping.get(genre_id, None)\n",
    "\n",
    "        return {\n",
    "            'genre': genre,\n",
    "            'birth_date': birth_date,\n",
    "            'birth_place': birth_place\n",
    "        }\n",
    "    else:\n",
    "        return {\n",
    "            'genre': None,\n",
    "            'birth_date': None,\n",
    "            'birth_place': None\n",
    "        }\n",
    "\n",
    "# Caricamento del campione iniziale di valutazioni\n",
    "ratings_df = pd.read_csv(\"sample.csv\")  # Sostituisci con il percorso del tuo file CSV\n",
    "\n",
    "# Aggiungi colonne per i dati demografici\n",
    "ratings_df['artist_genre'] = None\n",
    "ratings_df['artist_birth_date'] = None\n",
    "ratings_df['artist_birth_place'] = None\n",
    "\n",
    "# Itera sul DataFrame e arricchisci con i dati demografici\n",
    "for index, row in ratings_df.iterrows():\n",
    "    artist_name = row['artist_name']\n",
    "    demographic_data = get_demographic_data(artist_name)\n",
    "    \n",
    "    # Aggiungi i dati demografici al DataFrame\n",
    "    ratings_df.at[index, 'artist_genre'] = demographic_data['genre']\n",
    "    ratings_df.at[index, 'artist_birth_date'] = demographic_data['birth_date']\n",
    "    ratings_df.at[index, 'artist_birth_place'] = demographic_data['birth_place']\n",
    "\n",
    "# Salva il DataFrame arricchito\n",
    "ratings_df.to_csv(\"user_augmentation.csv\", index=False) "
   ]
  },
  {
   "cell_type": "code",
   "execution_count": null,
   "id": "df8d66db-9c9c-4ced-9663-02b68b0f5a65",
   "metadata": {},
   "outputs": [],
   "source": []
  }
 ],
 "metadata": {
  "kernelspec": {
   "display_name": "Python 3 (ipykernel)",
   "language": "python",
   "name": "python3"
  },
  "language_info": {
   "codemirror_mode": {
    "name": "ipython",
    "version": 3
   },
   "file_extension": ".py",
   "mimetype": "text/x-python",
   "name": "python",
   "nbconvert_exporter": "python",
   "pygments_lexer": "ipython3",
   "version": "3.10.4"
  }
 },
 "nbformat": 4,
 "nbformat_minor": 5
}
